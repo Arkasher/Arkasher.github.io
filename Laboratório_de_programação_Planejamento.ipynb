{
  "nbformat": 4,
  "nbformat_minor": 0,
  "metadata": {
    "colab": {
      "name": "Laboratório de programação - Planejamento.ipynb",
      "provenance": [],
      "collapsed_sections": [],
      "include_colab_link": true
    },
    "kernelspec": {
      "name": "python3",
      "display_name": "Python 3"
    }
  },
  "cells": [
    {
      "cell_type": "markdown",
      "metadata": {
        "id": "view-in-github",
        "colab_type": "text"
      },
      "source": [
        "<a href=\"https://colab.research.google.com/github/Arkasher/Arkasher.github.io/blob/master/Laborat%C3%B3rio_de_programa%C3%A7%C3%A3o_Planejamento.ipynb\" target=\"_parent\"><img src=\"https://colab.research.google.com/assets/colab-badge.svg\" alt=\"Open In Colab\"/></a>"
      ]
    },
    {
      "cell_type": "markdown",
      "metadata": {
        "id": "G90zxY79qIXe"
      },
      "source": [
        "<?xml version=\"1.0\" encoding=\"UTF-8\"?>\n",
        "<html>\n",
        "  <body>\n",
        "    <header></header>\n",
        "        <CENTER>\n",
        "          <img src=\"https://www.uvv.br/wp-content/themes/uvvBr/templates/assets//img/logouvv.svg\" alt=\"UVV-LOGO\" style = width=\"100px\"; height=\"100px\">\n",
        "        </CENTER>\n",
        "        <CENTER>\n",
        "          <b>\n",
        "            <font size=\"5\">Laboratório de Programação\n",
        "          </b>\n",
        "          </CENTER>\n",
        "        <CENTER><b>Planejamento da Disciplina</b></CENTER><br/>\n",
        "        </font>"
      ]
    },
    {
      "cell_type": "markdown",
      "metadata": {
        "id": "yZfJjeQgqTo_"
      },
      "source": [
        "# **OBJETIVO**:\n",
        "\n",
        "Estudar, Pesquisar e Praticar os conceitos e tecnologias que pertencem à **Programação de Computadores com os recursos do Ecossistema Python.**\n",
        "    "
      ]
    },
    {
      "cell_type": "markdown",
      "metadata": {
        "id": "7pj3CvyWpSQv"
      },
      "source": [
        "# Introdução à Lógica de programação: [Clique Aqui](https://colab.research.google.com/drive/10DznqnopdIAVxUjvaiWcIVssEoe9AMbL?usp=sharing)."
      ]
    },
    {
      "cell_type": "markdown",
      "metadata": {
        "id": "3Fnp7VGKMr-Q"
      },
      "source": [
        "# Estruturas de Seleção de Dados (comandos: **if elif else**): [Clique Aqui](https://colab.research.google.com/drive/10DznqnopdIAVxUjvaiWcIVssEoe9AMbL?usp=sharing)."
      ]
    },
    {
      "cell_type": "markdown",
      "metadata": {
        "id": "Ql1sFwZPNoBM"
      },
      "source": [
        "# Estruturas de Repetição de Dados (comando **for / in range / while / break**): [Clique Aqui](https://colab.research.google.com/drive/1Pm0Jq6-JD5ZqVbKsJyFRPohr6YHU3M4b?usp=sharing)."
      ]
    },
    {
      "cell_type": "markdown",
      "metadata": {
        "id": "d_-sb477DSpF"
      },
      "source": [
        "# Modularização (comando **def** ): [Clique Aqui](https://colab.research.google.com/drive/1zGsIUeBmfyrfz6cyg2Pkr6GPGae9meoO?usp=sharing)."
      ]
    },
    {
      "cell_type": "markdown",
      "metadata": {
        "id": "HfYr-BxU38PG"
      },
      "source": [
        "# Numeric Python (Estrutura de Dados - NDARRAY): \n",
        "\n",
        "*   **NUMPY 1D - VETOR:** [Clique Aqui](https://colab.research.google.com/drive/1XP10MHbunmWR832FDSHv63JL1daxAm-G?usp=sharing).\n",
        "\n",
        "*   **NUMPY 2D - MATRIZ:** [Clique Aqui](https://colab.research.google.com/drive/1a0xmb7R0baTqN5nEoiykV1kOa8YLVU42?usp=sharing).\n",
        "\n",
        "*   **Lista de exercício:** [Clique Aqui](https://colab.research.google.com/drive/1NUPS7vHTuz_pQEFOtzFmLzjdti_bV3sD?usp=sharing)\n"
      ]
    },
    {
      "cell_type": "markdown",
      "metadata": {
        "id": "SxfseI4hEFvx"
      },
      "source": [
        "#Referência Bibliográfica:"
      ]
    },
    {
      "cell_type": "markdown",
      "metadata": {
        "id": "tBOb6EVtr9u-"
      },
      "source": [
        "<div class=\"hint\">\n",
        "        <b>APRENDA+ :</b><br/>\n",
        "        &#10139; Livro Numeric Python (Travis E. Oliphant):\n",
        "        <a href=\"https://web.mit.edu/dvp/Public/numpybook.pdf\">Link<a><br/>\n",
        "        &#10139; Livro Análise de Dados: NUMPY / PANDAS (Wes Mckinney):\n",
        "        <a href=\"https://www.cin.ufpe.br/~embat/Python%20for%20Data%20Analysis.pdf\">Link<a><br/>\n",
        "        &#10139; Biblioteca Numeric Python:\n",
        "        <a href=\"https://numpy.org/doc/1.17/index.html\">Link<a><br/>\n",
        "        &#10139; Site oficial <b>Python</b>:\n",
        "        <a href=\"https://www.python.org/\">Link</a><br/>\n",
        "        &#10139; Bibliotecas (Library) do <b>Python</b>:\n",
        "        <a href=\"https://docs.python.org/3.8/library/index.html?highlight=library\">Link</a><br/>\n",
        "    </div>"
      ]
    }
  ]
}